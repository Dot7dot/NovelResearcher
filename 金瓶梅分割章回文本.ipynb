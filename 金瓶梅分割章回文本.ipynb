{
 "cells": [
  {
   "cell_type": "code",
   "execution_count": 3,
   "id": "0f48a177",
   "metadata": {},
   "outputs": [],
   "source": [
    "import re\n",
    "import os\n",
    "\n",
    "# 讀取原始檔案\n",
    "with open(\"GoldenAll.txt\", encoding=\"utf-8\") as f:\n",
    "    content = f.read()\n",
    "\n",
    "# 搜尋所有章回標題\n",
    "chapter_indices = [match.start() for match in re.finditer(r\"第.+回\\s+\", content)]\n",
    "\n",
    "# 切割成章回\n",
    "chapters = []\n",
    "for i in range(len(chapter_indices)):\n",
    "    start = chapter_indices[i]\n",
    "    end = chapter_indices[i+1] if i < len(chapter_indices) - 1 else len(content)\n",
    "    chapter = content[start:end].strip()\n",
    "    chapters.append(chapter)\n",
    "\n",
    "# 存成檔案\n",
    "for i, chapter in enumerate(chapters):\n",
    "    filename = f\"金瓶梅_第{i+1}回.txt\"\n",
    "    with open(\"金瓶梅/\"+filename, \"w\", encoding=\"utf-8\") as f:\n",
    "        f.write(chapter.replace(\"\\n\", \"\"))"
   ]
  }
 ],
 "metadata": {
  "kernelspec": {
   "display_name": "Python 3 (ipykernel)",
   "language": "python",
   "name": "python3"
  },
  "language_info": {
   "codemirror_mode": {
    "name": "ipython",
    "version": 3
   },
   "file_extension": ".py",
   "mimetype": "text/x-python",
   "name": "python",
   "nbconvert_exporter": "python",
   "pygments_lexer": "ipython3",
   "version": "3.9.12"
  }
 },
 "nbformat": 4,
 "nbformat_minor": 5
}
